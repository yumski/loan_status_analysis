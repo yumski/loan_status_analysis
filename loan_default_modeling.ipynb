{
 "cells": [
  {
   "cell_type": "code",
   "execution_count": 19,
   "id": "e66573fa-1df6-4da0-9a00-e74a7e538adc",
   "metadata": {},
   "outputs": [],
   "source": [
    "import numpy as np\n",
    "import pandas as pd\n",
    "\n",
    "from sklearn.model_selection import train_test_split, RandomizedSearchCV\n",
    "import xgboost as xgb\n",
    "from sklearn.metrics import confusion_matrix, roc_auc_score, accuracy_score\n",
    "import pickle\n",
    "\n",
    "import time\n",
    "\n",
    "import matplotlib.pyplot as plt\n",
    "%matplotlib inline"
   ]
  },
  {
   "cell_type": "markdown",
   "id": "090e6485-4d12-41f5-9dfa-20fdbf05a341",
   "metadata": {},
   "source": [
    "## Modeling\n",
    "\n",
    "This project utilizes the extreme gradient boost (XGBoost) model to predict a borrower's loan status. Since this label is a binary variable, it is appropriate to use the classification method of this model. The metric used to measure the model performance is the 'ROC-AUC' score; this metric is more suitable compared to accuracy score due to the imbalance of the proportion of the loan statuses. \n",
    "\n",
    "The XGBoost model utilizes an ensemble of decision trees to minimize the loss function. Boosting refers to a technique built by each ensemble tree with the weak learner(s). By combining the different weak learners, this model converts them into strong ones and, at the same time, reduces bias and variance in the model. Next, this model utilizes the second order of the Taylor polynomial combined with regularization to calculate the output of each leaf. Lastly, the prediction is updated by adding the previous prediction by the output multiplied by the learning rate.\n",
    "\n",
    "XGBoost utilizes a \"Basic Exact Greedy\" algorithm to determine the split of each tree node; the value to quantify this is called \"Gain.\"  This algorithm starts with a single leaf and recursively adds branches by finding the maximum gain of each split. For the first iteration of the model, the initial prediction is made by initiating a constant value. Then, the gain is calculated by first calculating the weight of each leaf and the parent node. The weight is calculated by dividing the sum of the first-order derivative of the loss function(gradient) squared by the sum of the second-order derivative of the loss function(hessian) plus the lambda. This process is repeated until the maximum number of depths or if the minimum child weight is reached. Then, this model prunes each tree by subtracting the hyperparameter gamma from the gain of the lowest branch. If this formula results in a negative number, this branch will be pruned, and this step is repeated. However, if the lowest branch is not pruned, the model will not prune the parent branches if their gain - gamma is negative.\n",
    "\n",
    "Finally, each leaf's output(weights) is calculated by approximating the loss function using the second-order polynomial plus regularization. If the  $\\lambda$ is set to 0, this model's object is the same as traditional gradient boosting. The prediction is updated by adding the previous prediction plus the learning rate multiplied by the leaf output. These steps conclude the one iteration of the model. The model will repeat these iterations until the maximum number of iterations or the early stopping rounds is reached.\n",
    "\n",
    "Initialize model with a constant value: $f_{0}(x) = \\textrm{arg min}_{\\hat{y}} \\sum \\limits _{i=1} ^{N} L(y_{i}, \\hat{y})$\n",
    "\n",
    "Find the first and second order derivate of the Loss Function: $g_i = ∂\\hat{y} (t−1) l(y_i, \\hat{y}^{(t−1)})$ and $h_i = ∂^2 \\hat{y}(t−1) l(y_i, \\hat{y}^{(t−1)})$\n",
    "\n",
    "Determine the split point by maximizing the gain: $L_{split} = \\frac{1}{2}[\\frac{(\\sum_{i \\in IL} g_i)^{2}}{\\sum_{i \\in IL} h_i + \\lambda} + \\frac{(\\sum_{i \\in IR} g_i)^{2}}{\\sum_{i \\in IR} h_i + \\lambda} - \\frac{(\\sum_{i \\in I} g_i)^{2}}{\\sum_{i \\in I} h_i + \\lambda}] - \\gamma$\n",
    "\n",
    "###### - This step is repeated until the minimum child weight or the maximum depth is reached\n",
    "###### - If the gain - $\\gamma$ of the lowest branch is negative, this branch will be pruned and repeated for the parent branches. However, if this branch isn't pruned, the parent branch will not be pruned even if this is negative.\n",
    "\n",
    "Once the tree is completed, the output(weight) value of each leaf is approximated with the second order of Taylor Polynomials, simplified to: $w_{j} = -\\frac{\\sum_{i \\in I_{j}} g_i}{\\sum_{i \\in I_{j}} h_i + \\lambda}$ \n",
    "\n",
    "The prediction is updated by adding the previous prediction plus the learning rate multiplied by the new output: $\\hat{y}_{i}^{(t−1)} + \\eta w_{i}^{t}$. \n",
    "\n",
    "These steps make up of one XGBoost iteration, this will repeat until the number of estimators or early stopping rounds' criterias have been met. These steps comprise one XGBoost iteration; this will repeat until the number of estimators or early stopping rounds' criteria has been met. This signifies the conclusion of the model's training, and the model can be used to make predictions. \n",
    "\n",
    "Lastly, I can plot the feature importances to determine which feature resulted in the highest gain value. This step is crucial to understanding the importance of each feature and providing stakeholders with essential information to make informed business decisions. \n",
    "\n",
    "Sources: [XGBoost White Paper](https://arxiv.org/pdf/1603.02754.pdf), [StatQuest XGBoost Breakdown](https://www.youtube.com/watch?v=OtD8wVaFm6E&ab_channel=StatQuestwithJoshStarmer)"
   ]
  },
  {
   "cell_type": "code",
   "execution_count": 2,
   "id": "f880a8e4-b67f-487c-b842-66bc65ffcdaf",
   "metadata": {},
   "outputs": [],
   "source": [
    "def map_loan_status_to_binary(loanstatus):\n",
    "    if loanstatus in ('Current', 'Completed', 'FinalPaymentInProgress'):\n",
    "        return 0\n",
    "    else:\n",
    "        return 1"
   ]
  },
  {
   "cell_type": "code",
   "execution_count": 3,
   "id": "62378fce-153e-4cf2-b5be-afa0647b5f0d",
   "metadata": {},
   "outputs": [],
   "source": [
    "def clean_and_split(filename, test_size=0.25):\n",
    "    '''\n",
    "    Creates pandas df, creates label column, imputes missing values and creates training/testing data\n",
    "    Args:\n",
    "        filename (string - filepath to csv file) - filepath of the datafile, will then use pandas read_csv to create a df\n",
    "        test_size (float) - percentage of data set aside for testing\n",
    "    returns:\n",
    "        X_train, X_test, y_train, y_test - four dataframes split with sklearn.model_selection.train_test_split based on the percentage of test_size\n",
    "    '''\n",
    "    \n",
    "    import pandas as pd\n",
    "    from sklearn.model_selection import train_test_split\n",
    "    from sklearn.impute import SimpleImputer\n",
    "    \n",
    "    df = pd.read_csv(filename)\n",
    "    # combine the two different credit grade columns\n",
    "    df.loc[df['CreditGrade'].notnull(),'ProsperRating (Alpha)'] = df.loc[df['CreditGrade'].notnull(), 'CreditGrade']\n",
    "    # convert loan status to binary\n",
    "    df['binary_loan_status'] = df['LoanStatus'].apply(map_loan_status_to_binary)\n",
    "    # Seperate into features and labels\n",
    "    X = df.drop(columns='binary_loan_status')\n",
    "    y = df['binary_loan_status']\n",
    "    \n",
    "    # Impute categorical columns with most frequent and numeric columns with mean values\n",
    "    cat_columns = X.select_dtypes('object').columns\n",
    "    num_columns = X.select_dtypes(include=np.number).columns\n",
    "    \n",
    "    cat_encoder = SimpleImputer(strategy='most_frequent')\n",
    "    num_encoder = SimpleImputer()\n",
    "    \n",
    "    X[cat_columns] = cat_encoder.fit_transform(X[cat_columns])\n",
    "    X[num_columns] = num_encoder.fit_transform(X[num_columns])\n",
    "    \n",
    "    # drop columns that are either unique identifiers or indicators of late/default loans\n",
    "    X.drop(columns=['ListingKey', 'ListingNumber', 'LoanKey', 'GroupKey', 'MemberKey', 'ProsperRating (numeric)', \n",
    "                    'CreditGrade', 'LP_GrossPrincipalLoss', 'LoanCurrentDaysDelinquent', 'LP_NetPrincipalLoss', \n",
    "                    'LoanFirstDefaultedCycleNumber', 'LP_CollectionFees', 'LP_NonPrincipalRecoverypayments', \n",
    "                    'ClosedDate', 'LoanStatus', 'LoanOriginationQuarter', 'LoanNumber',\n",
    "                    'FirstRecordedCreditLine', 'ListingCreationDate', 'DateCreditPulled', 'LoanOriginationDate'], inplace=True)\n",
    "    \n",
    "    # Transform categorical columns with dummy columns\n",
    "    for col in X.select_dtypes('object').columns:\n",
    "        X = pd.concat([X, pd.get_dummies(X[col], prefix=col)],  axis=1)\n",
    "        del X[col]\n",
    "    \n",
    "    X_train, X_test, y_train, y_test = train_test_split(X, y, stratify=y, test_size=test_size)\n",
    "    \n",
    "    return X_train, X_test, y_train, y_test"
   ]
  },
  {
   "cell_type": "code",
   "execution_count": 4,
   "id": "324c0fee-4629-45e6-b44c-b4134a234141",
   "metadata": {},
   "outputs": [],
   "source": [
    "def model_scores(y_actual, y_pred):\n",
    "    from sklearn.metrics import confusion_matrix, roc_auc_score, accuracy_score\n",
    "    cm = confusion_matrix(y_actual, y_pred)\n",
    "    precision = cm[1][1]/(cm[1][1]+cm[1][0])\n",
    "    recall = cm[1][1]/(cm[1][1]+cm[0][1])\n",
    "    print('Model Results:')\n",
    "    print('-------------------')\n",
    "    print('Accuracy Score: ', accuracy_score(y_actual, y_pred))\n",
    "    print('-------------------')\n",
    "    print('ROC-AUC Score: ', roc_auc_score(y_actual, y_pred))\n",
    "    print('-------------------')\n",
    "    print('Confusion Matrix:')\n",
    "    print(cm)\n",
    "    print('-------------------')\n",
    "    print('Precision: ', precision)\n",
    "    print('-------------------')\n",
    "    print('Recall: ',  recall)\n",
    "    print('-------------------')\n",
    "    print('F1: ', 2*(precision*recall)/(precision+recall))\n",
    "   "
   ]
  },
  {
   "cell_type": "code",
   "execution_count": 5,
   "id": "a48e7716-e6ba-4eec-be71-d5eb19c174da",
   "metadata": {},
   "outputs": [],
   "source": [
    "filename = 'prosperLoanData.csv'"
   ]
  },
  {
   "cell_type": "code",
   "execution_count": 6,
   "id": "9a975b81-94fd-4a60-9be5-f3aff4f6f067",
   "metadata": {},
   "outputs": [],
   "source": [
    "X_train, X_test, y_train, y_test = clean_and_split(filename)"
   ]
  },
  {
   "cell_type": "markdown",
   "id": "7a0a4f72-0406-4b4d-bd26-f87fddd3e739",
   "metadata": {},
   "source": [
    "## Initial Model"
   ]
  },
  {
   "cell_type": "code",
   "execution_count": 7,
   "id": "c921e4db-f2fe-451a-88cb-5ca45f3ff464",
   "metadata": {},
   "outputs": [
    {
     "name": "stdout",
     "output_type": "stream",
     "text": [
      "[0]\tvalidation_0-aucpr:0.86420\tvalidation_1-aucpr:0.85680\n",
      "[1]\tvalidation_0-aucpr:0.91573\tvalidation_1-aucpr:0.90642\n",
      "[2]\tvalidation_0-aucpr:0.92889\tvalidation_1-aucpr:0.91949\n",
      "[3]\tvalidation_0-aucpr:0.93558\tvalidation_1-aucpr:0.92455\n",
      "[4]\tvalidation_0-aucpr:0.93902\tvalidation_1-aucpr:0.92722\n",
      "[5]\tvalidation_0-aucpr:0.94726\tvalidation_1-aucpr:0.93549\n",
      "[6]\tvalidation_0-aucpr:0.94935\tvalidation_1-aucpr:0.93804\n",
      "[7]\tvalidation_0-aucpr:0.95225\tvalidation_1-aucpr:0.94002\n",
      "[8]\tvalidation_0-aucpr:0.95694\tvalidation_1-aucpr:0.94381\n",
      "[9]\tvalidation_0-aucpr:0.96070\tvalidation_1-aucpr:0.94700\n",
      "[10]\tvalidation_0-aucpr:0.96246\tvalidation_1-aucpr:0.94934\n",
      "[11]\tvalidation_0-aucpr:0.96474\tvalidation_1-aucpr:0.95130\n",
      "[12]\tvalidation_0-aucpr:0.96759\tvalidation_1-aucpr:0.95413\n",
      "[13]\tvalidation_0-aucpr:0.96950\tvalidation_1-aucpr:0.95602\n",
      "[14]\tvalidation_0-aucpr:0.97101\tvalidation_1-aucpr:0.95702\n",
      "[15]\tvalidation_0-aucpr:0.97272\tvalidation_1-aucpr:0.95776\n",
      "[16]\tvalidation_0-aucpr:0.97375\tvalidation_1-aucpr:0.95828\n",
      "[17]\tvalidation_0-aucpr:0.97519\tvalidation_1-aucpr:0.95940\n",
      "[18]\tvalidation_0-aucpr:0.97663\tvalidation_1-aucpr:0.96093\n",
      "[19]\tvalidation_0-aucpr:0.97793\tvalidation_1-aucpr:0.96207\n",
      "[20]\tvalidation_0-aucpr:0.97871\tvalidation_1-aucpr:0.96291\n",
      "[21]\tvalidation_0-aucpr:0.98020\tvalidation_1-aucpr:0.96418\n",
      "[22]\tvalidation_0-aucpr:0.98136\tvalidation_1-aucpr:0.96490\n",
      "[23]\tvalidation_0-aucpr:0.98231\tvalidation_1-aucpr:0.96606\n",
      "[24]\tvalidation_0-aucpr:0.98317\tvalidation_1-aucpr:0.96669\n",
      "[25]\tvalidation_0-aucpr:0.98417\tvalidation_1-aucpr:0.96779\n",
      "[26]\tvalidation_0-aucpr:0.98451\tvalidation_1-aucpr:0.96822\n",
      "[27]\tvalidation_0-aucpr:0.98538\tvalidation_1-aucpr:0.96859\n",
      "[28]\tvalidation_0-aucpr:0.98588\tvalidation_1-aucpr:0.96877\n",
      "[29]\tvalidation_0-aucpr:0.98644\tvalidation_1-aucpr:0.96922\n",
      "[30]\tvalidation_0-aucpr:0.98704\tvalidation_1-aucpr:0.96969\n",
      "[31]\tvalidation_0-aucpr:0.98731\tvalidation_1-aucpr:0.96974\n",
      "[32]\tvalidation_0-aucpr:0.98777\tvalidation_1-aucpr:0.96989\n",
      "[33]\tvalidation_0-aucpr:0.98843\tvalidation_1-aucpr:0.97047\n",
      "[34]\tvalidation_0-aucpr:0.98884\tvalidation_1-aucpr:0.97069\n",
      "[35]\tvalidation_0-aucpr:0.98940\tvalidation_1-aucpr:0.97105\n",
      "[36]\tvalidation_0-aucpr:0.98988\tvalidation_1-aucpr:0.97118\n",
      "[37]\tvalidation_0-aucpr:0.99012\tvalidation_1-aucpr:0.97140\n",
      "[38]\tvalidation_0-aucpr:0.99032\tvalidation_1-aucpr:0.97142\n",
      "[39]\tvalidation_0-aucpr:0.99078\tvalidation_1-aucpr:0.97190\n",
      "[40]\tvalidation_0-aucpr:0.99123\tvalidation_1-aucpr:0.97202\n",
      "[41]\tvalidation_0-aucpr:0.99144\tvalidation_1-aucpr:0.97225\n",
      "[42]\tvalidation_0-aucpr:0.99175\tvalidation_1-aucpr:0.97237\n",
      "[43]\tvalidation_0-aucpr:0.99213\tvalidation_1-aucpr:0.97265\n",
      "[44]\tvalidation_0-aucpr:0.99241\tvalidation_1-aucpr:0.97288\n",
      "[45]\tvalidation_0-aucpr:0.99271\tvalidation_1-aucpr:0.97305\n",
      "[46]\tvalidation_0-aucpr:0.99298\tvalidation_1-aucpr:0.97323\n",
      "[47]\tvalidation_0-aucpr:0.99325\tvalidation_1-aucpr:0.97329\n",
      "[48]\tvalidation_0-aucpr:0.99333\tvalidation_1-aucpr:0.97326\n",
      "[49]\tvalidation_0-aucpr:0.99365\tvalidation_1-aucpr:0.97326\n",
      "[50]\tvalidation_0-aucpr:0.99389\tvalidation_1-aucpr:0.97335\n",
      "[51]\tvalidation_0-aucpr:0.99414\tvalidation_1-aucpr:0.97372\n",
      "[52]\tvalidation_0-aucpr:0.99427\tvalidation_1-aucpr:0.97371\n",
      "[53]\tvalidation_0-aucpr:0.99444\tvalidation_1-aucpr:0.97372\n",
      "[54]\tvalidation_0-aucpr:0.99459\tvalidation_1-aucpr:0.97382\n",
      "[55]\tvalidation_0-aucpr:0.99462\tvalidation_1-aucpr:0.97386\n",
      "[56]\tvalidation_0-aucpr:0.99489\tvalidation_1-aucpr:0.97386\n",
      "[57]\tvalidation_0-aucpr:0.99512\tvalidation_1-aucpr:0.97406\n",
      "[58]\tvalidation_0-aucpr:0.99528\tvalidation_1-aucpr:0.97404\n",
      "[59]\tvalidation_0-aucpr:0.99550\tvalidation_1-aucpr:0.97406\n",
      "[60]\tvalidation_0-aucpr:0.99567\tvalidation_1-aucpr:0.97402\n",
      "[61]\tvalidation_0-aucpr:0.99588\tvalidation_1-aucpr:0.97414\n",
      "[62]\tvalidation_0-aucpr:0.99604\tvalidation_1-aucpr:0.97418\n",
      "[63]\tvalidation_0-aucpr:0.99617\tvalidation_1-aucpr:0.97400\n",
      "[64]\tvalidation_0-aucpr:0.99630\tvalidation_1-aucpr:0.97408\n",
      "[65]\tvalidation_0-aucpr:0.99643\tvalidation_1-aucpr:0.97408\n",
      "[66]\tvalidation_0-aucpr:0.99652\tvalidation_1-aucpr:0.97417\n",
      "[67]\tvalidation_0-aucpr:0.99661\tvalidation_1-aucpr:0.97417\n",
      "[68]\tvalidation_0-aucpr:0.99676\tvalidation_1-aucpr:0.97430\n",
      "[69]\tvalidation_0-aucpr:0.99688\tvalidation_1-aucpr:0.97442\n",
      "[70]\tvalidation_0-aucpr:0.99700\tvalidation_1-aucpr:0.97472\n",
      "[71]\tvalidation_0-aucpr:0.99712\tvalidation_1-aucpr:0.97465\n",
      "[72]\tvalidation_0-aucpr:0.99724\tvalidation_1-aucpr:0.97460\n",
      "[73]\tvalidation_0-aucpr:0.99731\tvalidation_1-aucpr:0.97453\n",
      "[74]\tvalidation_0-aucpr:0.99738\tvalidation_1-aucpr:0.97447\n",
      "[75]\tvalidation_0-aucpr:0.99749\tvalidation_1-aucpr:0.97445\n",
      "[76]\tvalidation_0-aucpr:0.99755\tvalidation_1-aucpr:0.97447\n",
      "[77]\tvalidation_0-aucpr:0.99755\tvalidation_1-aucpr:0.97446\n",
      "[78]\tvalidation_0-aucpr:0.99761\tvalidation_1-aucpr:0.97445\n",
      "[79]\tvalidation_0-aucpr:0.99768\tvalidation_1-aucpr:0.97450\n",
      "[80]\tvalidation_0-aucpr:0.99771\tvalidation_1-aucpr:0.97452\n",
      "[81]\tvalidation_0-aucpr:0.99775\tvalidation_1-aucpr:0.97453\n",
      "[82]\tvalidation_0-aucpr:0.99782\tvalidation_1-aucpr:0.97449\n",
      "[83]\tvalidation_0-aucpr:0.99790\tvalidation_1-aucpr:0.97457\n",
      "[84]\tvalidation_0-aucpr:0.99795\tvalidation_1-aucpr:0.97460\n",
      "[85]\tvalidation_0-aucpr:0.99804\tvalidation_1-aucpr:0.97461\n",
      "[86]\tvalidation_0-aucpr:0.99809\tvalidation_1-aucpr:0.97465\n",
      "[87]\tvalidation_0-aucpr:0.99820\tvalidation_1-aucpr:0.97459\n",
      "[88]\tvalidation_0-aucpr:0.99824\tvalidation_1-aucpr:0.97462\n",
      "[89]\tvalidation_0-aucpr:0.99834\tvalidation_1-aucpr:0.97467\n",
      "[90]\tvalidation_0-aucpr:0.99841\tvalidation_1-aucpr:0.97477\n",
      "[91]\tvalidation_0-aucpr:0.99849\tvalidation_1-aucpr:0.97462\n",
      "[92]\tvalidation_0-aucpr:0.99854\tvalidation_1-aucpr:0.97460\n",
      "[93]\tvalidation_0-aucpr:0.99858\tvalidation_1-aucpr:0.97446\n",
      "[94]\tvalidation_0-aucpr:0.99863\tvalidation_1-aucpr:0.97453\n",
      "[95]\tvalidation_0-aucpr:0.99866\tvalidation_1-aucpr:0.97451\n",
      "[96]\tvalidation_0-aucpr:0.99868\tvalidation_1-aucpr:0.97454\n",
      "[97]\tvalidation_0-aucpr:0.99873\tvalidation_1-aucpr:0.97444\n",
      "[98]\tvalidation_0-aucpr:0.99875\tvalidation_1-aucpr:0.97447\n",
      "[99]\tvalidation_0-aucpr:0.99885\tvalidation_1-aucpr:0.97451\n"
     ]
    },
    {
     "data": {
      "text/plain": [
       "XGBClassifier(base_score=0.5, booster='gbtree', callbacks=None,\n",
       "              colsample_bylevel=1, colsample_bynode=1, colsample_bytree=1,\n",
       "              early_stopping_rounds=None, enable_categorical=False,\n",
       "              eval_metric='aucpr', gamma=0, gpu_id=-1, grow_policy='depthwise',\n",
       "              importance_type=None, interaction_constraints='',\n",
       "              learning_rate=0.300000012, max_bin=256, max_cat_to_onehot=4,\n",
       "              max_delta_step=0, max_depth=6, max_leaves=0, min_child_weight=1,\n",
       "              missing=nan, monotone_constraints='()', n_estimators=100,\n",
       "              n_jobs=0, num_parallel_tree=1, predictor='auto', random_state=123,\n",
       "              reg_alpha=0, reg_lambda=1, ...)"
      ]
     },
     "execution_count": 7,
     "metadata": {},
     "output_type": "execute_result"
    }
   ],
   "source": [
    "clf_xgb = xgb.XGBClassifier(objective='binary:logistic', seed=123, eval_metric='aucpr')\n",
    "clf_xgb.fit(X_train, y_train, verbose=True,\n",
    "           eval_set = [(X_train, y_train), (X_test, y_test)])"
   ]
  },
  {
   "cell_type": "code",
   "execution_count": 8,
   "id": "e53b4000-966a-4135-b297-4876279126d9",
   "metadata": {},
   "outputs": [],
   "source": [
    "pred = clf_xgb.predict(X_test)"
   ]
  },
  {
   "cell_type": "code",
   "execution_count": 9,
   "id": "60e817f1-9577-416d-b138-000cdb98b1e9",
   "metadata": {},
   "outputs": [
    {
     "name": "stdout",
     "output_type": "stream",
     "text": [
      "Model Results:\n",
      "-------------------\n",
      "Accuracy Score:  0.980375636299807\n",
      "-------------------\n",
      "ROC-AUC Score:  0.9447655033705562\n",
      "-------------------\n",
      "Confusion Matrix:\n",
      "[[23674    40]\n",
      " [  519  4252]]\n",
      "-------------------\n",
      "Precision:  0.8912177740515616\n",
      "-------------------\n",
      "Recall:  0.9906803355079217\n",
      "-------------------\n",
      "F1:  0.9383206443782411\n"
     ]
    }
   ],
   "source": [
    "model_scores(y_test, pred)"
   ]
  },
  {
   "cell_type": "code",
   "execution_count": 10,
   "id": "e7c3a46a-ba13-4e9a-ae0f-707a6099ab74",
   "metadata": {},
   "outputs": [
    {
     "data": {
      "image/png": "[encoded data removed]",
      "text/plain": [
       "<Figure size 432x288 with 1 Axes>"
      ]
     },
     "metadata": {
      "needs_background": "light"
     },
     "output_type": "display_data"
    }
   ],
   "source": [
    "feature_importance_df = pd.DataFrame(best_model.feature_importances_, X_train.columns)\n",
    "feature_importance_df.rename(columns={0:'Gain'}, inplace=True)\n",
    "feature_importance_df.sort_values('Gain', ascending=False, inplace=True)\n",
    "feature_importance_df[:10].plot(kind='bar')\n",
    "plt.title('Top 10 Features - By Gains')\n",
    "plt.ylabel('Gain')\n",
    "plt.show()"
   ]
  },
  {
   "cell_type": "markdown",
   "id": "07a76a2f-a575-43d0-93ee-c8c45d3843be",
   "metadata": {},
   "source": [
    "#### Hyperparameter Tuning"
   ]
  },
  {
   "cell_type": "code",
   "execution_count": null,
   "id": "9a19742b-f0e6-456a-8402-d8f2baa9ce78",
   "metadata": {},
   "outputs": [],
   "source": [
    "param_grid = {'max_depth':[6,9,12],\n",
    "             'colsample_bytree': [0.3,0.4,0.5],\n",
    "             'learning_rate':[0.2,0.3,0.4],\n",
    "             'gamma':[0, 0.05, 0.1, 0.25],\n",
    "             'reg_lambda':[0,1,2],\n",
    "             'n_estimators':[300,600],\n",
    "             'subsample':[0.3,0.4,0.5]}"
   ]
  },
  {
   "cell_type": "code",
   "execution_count": 12,
   "id": "c1c1372d-ed63-4f1a-a702-5a863182f1c9",
   "metadata": {},
   "outputs": [],
   "source": [
    "clf_xgb = xgb.XGBClassifier(objective='binary:logistic', seed=123, eval_metric='aucpr', early_stopping=20)\n",
    "randomized_auc = RandomizedSearchCV(estimator=clf_xgb, param_distributions=param_grid,\n",
    "                                   scoring='roc_auc', n_iter=5, cv=10,  verbose=2, random_state=200)"
   ]
  },
  {
   "cell_type": "code",
   "execution_count": 13,
   "id": "6b84f21b-1717-4ee1-ad69-fbb82c10e1b2",
   "metadata": {},
   "outputs": [
    {
     "name": "stdout",
     "output_type": "stream",
     "text": [
      "Fitting 10 folds for each of 5 candidates, totalling 50 fits\n",
      "[CV] END colsample_bytree=0.4, gamma=0.05, learning_rate=0.3, max_depth=12, n_estimators=600, reg_lambda=1, subsample=0.4; total time=  50.8s\n",
      "[CV] END colsample_bytree=0.4, gamma=0.05, learning_rate=0.3, max_depth=12, n_estimators=600, reg_lambda=1, subsample=0.4; total time=  52.9s\n",
      "[CV] END colsample_bytree=0.4, gamma=0.05, learning_rate=0.3, max_depth=12, n_estimators=600, reg_lambda=1, subsample=0.4; total time=  53.8s\n",
      "[CV] END colsample_bytree=0.4, gamma=0.05, learning_rate=0.3, max_depth=12, n_estimators=600, reg_lambda=1, subsample=0.4; total time=  53.5s\n",
      "[CV] END colsample_bytree=0.4, gamma=0.05, learning_rate=0.3, max_depth=12, n_estimators=600, reg_lambda=1, subsample=0.4; total time=  51.7s\n",
      "[CV] END colsample_bytree=0.4, gamma=0.05, learning_rate=0.3, max_depth=12, n_estimators=600, reg_lambda=1, subsample=0.4; total time=  51.8s\n",
      "[CV] END colsample_bytree=0.4, gamma=0.05, learning_rate=0.3, max_depth=12, n_estimators=600, reg_lambda=1, subsample=0.4; total time=  52.4s\n",
      "[CV] END colsample_bytree=0.4, gamma=0.05, learning_rate=0.3, max_depth=12, n_estimators=600, reg_lambda=1, subsample=0.4; total time=  51.3s\n",
      "[CV] END colsample_bytree=0.4, gamma=0.05, learning_rate=0.3, max_depth=12, n_estimators=600, reg_lambda=1, subsample=0.4; total time=  54.0s\n",
      "[CV] END colsample_bytree=0.4, gamma=0.05, learning_rate=0.3, max_depth=12, n_estimators=600, reg_lambda=1, subsample=0.4; total time=  55.6s\n",
      "[CV] END colsample_bytree=0.3, gamma=0.05, learning_rate=0.4, max_depth=12, n_estimators=500, reg_lambda=1, subsample=0.3; total time=  35.5s\n",
      "[CV] END colsample_bytree=0.3, gamma=0.05, learning_rate=0.4, max_depth=12, n_estimators=500, reg_lambda=1, subsample=0.3; total time=  35.6s\n",
      "[CV] END colsample_bytree=0.3, gamma=0.05, learning_rate=0.4, max_depth=12, n_estimators=500, reg_lambda=1, subsample=0.3; total time=  34.3s\n",
      "[CV] END colsample_bytree=0.3, gamma=0.05, learning_rate=0.4, max_depth=12, n_estimators=500, reg_lambda=1, subsample=0.3; total time=  39.6s\n",
      "[CV] END colsample_bytree=0.3, gamma=0.05, learning_rate=0.4, max_depth=12, n_estimators=500, reg_lambda=1, subsample=0.3; total time=  34.7s\n",
      "[CV] END colsample_bytree=0.3, gamma=0.05, learning_rate=0.4, max_depth=12, n_estimators=500, reg_lambda=1, subsample=0.3; total time=  32.8s\n",
      "[CV] END colsample_bytree=0.3, gamma=0.05, learning_rate=0.4, max_depth=12, n_estimators=500, reg_lambda=1, subsample=0.3; total time=  34.4s\n",
      "[CV] END colsample_bytree=0.3, gamma=0.05, learning_rate=0.4, max_depth=12, n_estimators=500, reg_lambda=1, subsample=0.3; total time=  31.9s\n",
      "[CV] END colsample_bytree=0.3, gamma=0.05, learning_rate=0.4, max_depth=12, n_estimators=500, reg_lambda=1, subsample=0.3; total time=  32.2s\n",
      "[CV] END colsample_bytree=0.3, gamma=0.05, learning_rate=0.4, max_depth=12, n_estimators=500, reg_lambda=1, subsample=0.3; total time=  32.3s\n",
      "[CV] END colsample_bytree=0.3, gamma=0.1, learning_rate=0.3, max_depth=6, n_estimators=700, reg_lambda=1, subsample=0.2; total time=  28.8s\n",
      "[CV] END colsample_bytree=0.3, gamma=0.1, learning_rate=0.3, max_depth=6, n_estimators=700, reg_lambda=1, subsample=0.2; total time=  28.7s\n",
      "[CV] END colsample_bytree=0.3, gamma=0.1, learning_rate=0.3, max_depth=6, n_estimators=700, reg_lambda=1, subsample=0.2; total time=  28.6s\n",
      "[CV] END colsample_bytree=0.3, gamma=0.1, learning_rate=0.3, max_depth=6, n_estimators=700, reg_lambda=1, subsample=0.2; total time=  28.8s\n",
      "[CV] END colsample_bytree=0.3, gamma=0.1, learning_rate=0.3, max_depth=6, n_estimators=700, reg_lambda=1, subsample=0.2; total time=  29.3s\n",
      "[CV] END colsample_bytree=0.3, gamma=0.1, learning_rate=0.3, max_depth=6, n_estimators=700, reg_lambda=1, subsample=0.2; total time=  29.3s\n",
      "[CV] END colsample_bytree=0.3, gamma=0.1, learning_rate=0.3, max_depth=6, n_estimators=700, reg_lambda=1, subsample=0.2; total time=  28.8s\n",
      "[CV] END colsample_bytree=0.3, gamma=0.1, learning_rate=0.3, max_depth=6, n_estimators=700, reg_lambda=1, subsample=0.2; total time=  28.7s\n",
      "[CV] END colsample_bytree=0.3, gamma=0.1, learning_rate=0.3, max_depth=6, n_estimators=700, reg_lambda=1, subsample=0.2; total time=  28.8s\n",
      "[CV] END colsample_bytree=0.3, gamma=0.1, learning_rate=0.3, max_depth=6, n_estimators=700, reg_lambda=1, subsample=0.2; total time=  28.6s\n",
      "[CV] END colsample_bytree=0.4, gamma=0.05, learning_rate=0.4, max_depth=6, n_estimators=700, reg_lambda=0, subsample=0.2; total time=  32.5s\n",
      "[CV] END colsample_bytree=0.4, gamma=0.05, learning_rate=0.4, max_depth=6, n_estimators=700, reg_lambda=0, subsample=0.2; total time=  32.5s\n",
      "[CV] END colsample_bytree=0.4, gamma=0.05, learning_rate=0.4, max_depth=6, n_estimators=700, reg_lambda=0, subsample=0.2; total time=  32.7s\n",
      "[CV] END colsample_bytree=0.4, gamma=0.05, learning_rate=0.4, max_depth=6, n_estimators=700, reg_lambda=0, subsample=0.2; total time=  32.6s\n",
      "[CV] END colsample_bytree=0.4, gamma=0.05, learning_rate=0.4, max_depth=6, n_estimators=700, reg_lambda=0, subsample=0.2; total time=  32.7s\n",
      "[CV] END colsample_bytree=0.4, gamma=0.05, learning_rate=0.4, max_depth=6, n_estimators=700, reg_lambda=0, subsample=0.2; total time=  32.6s\n",
      "[CV] END colsample_bytree=0.4, gamma=0.05, learning_rate=0.4, max_depth=6, n_estimators=700, reg_lambda=0, subsample=0.2; total time=  32.7s\n",
      "[CV] END colsample_bytree=0.4, gamma=0.05, learning_rate=0.4, max_depth=6, n_estimators=700, reg_lambda=0, subsample=0.2; total time=  32.7s\n",
      "[CV] END colsample_bytree=0.4, gamma=0.05, learning_rate=0.4, max_depth=6, n_estimators=700, reg_lambda=0, subsample=0.2; total time=  32.8s\n",
      "[CV] END colsample_bytree=0.4, gamma=0.05, learning_rate=0.4, max_depth=6, n_estimators=700, reg_lambda=0, subsample=0.2; total time=  33.4s\n",
      "[CV] END colsample_bytree=0.5, gamma=0, learning_rate=0.4, max_depth=9, n_estimators=600, reg_lambda=0, subsample=0.4; total time=  49.8s\n",
      "[CV] END colsample_bytree=0.5, gamma=0, learning_rate=0.4, max_depth=9, n_estimators=600, reg_lambda=0, subsample=0.4; total time=  49.4s\n",
      "[CV] END colsample_bytree=0.5, gamma=0, learning_rate=0.4, max_depth=9, n_estimators=600, reg_lambda=0, subsample=0.4; total time=  49.4s\n",
      "[CV] END colsample_bytree=0.5, gamma=0, learning_rate=0.4, max_depth=9, n_estimators=600, reg_lambda=0, subsample=0.4; total time=  49.4s\n",
      "[CV] END colsample_bytree=0.5, gamma=0, learning_rate=0.4, max_depth=9, n_estimators=600, reg_lambda=0, subsample=0.4; total time=  49.5s\n",
      "[CV] END colsample_bytree=0.5, gamma=0, learning_rate=0.4, max_depth=9, n_estimators=600, reg_lambda=0, subsample=0.4; total time=  49.7s\n",
      "[CV] END colsample_bytree=0.5, gamma=0, learning_rate=0.4, max_depth=9, n_estimators=600, reg_lambda=0, subsample=0.4; total time=  49.3s\n",
      "[CV] END colsample_bytree=0.5, gamma=0, learning_rate=0.4, max_depth=9, n_estimators=600, reg_lambda=0, subsample=0.4; total time=  49.4s\n",
      "[CV] END colsample_bytree=0.5, gamma=0, learning_rate=0.4, max_depth=9, n_estimators=600, reg_lambda=0, subsample=0.4; total time=  50.1s\n",
      "[CV] END colsample_bytree=0.5, gamma=0, learning_rate=0.4, max_depth=9, n_estimators=600, reg_lambda=0, subsample=0.4; total time=  49.5s\n"
     ]
    }
   ],
   "source": [
    "start_time = time.time()\n",
    "randomized_auc.fit(X_train,y_train)\n",
    "end_time = time.time()"
   ]
  },
  {
   "cell_type": "code",
   "execution_count": 14,
   "id": "898bf988-4c65-4fff-a657-8d01b06cabd8",
   "metadata": {},
   "outputs": [
    {
     "data": {
      "text/plain": [
       "34.05348307291667"
      ]
     },
     "execution_count": 14,
     "metadata": {},
     "output_type": "execute_result"
    }
   ],
   "source": [
    "(end_time - start_time) / 60"
   ]
  },
  {
   "cell_type": "code",
   "execution_count": 15,
   "id": "48f95e01-aa35-4953-8693-a2a00dfbf240",
   "metadata": {},
   "outputs": [
    {
     "data": {
      "text/plain": [
       "XGBClassifier(base_score=0.5, booster='gbtree', callbacks=None,\n",
       "              colsample_bylevel=1, colsample_bynode=1, colsample_bytree=0.4,\n",
       "              early_stopping_rounds=None, enable_categorical=False,\n",
       "              eval_metric='aucpr', gamma=0.05, gpu_id=-1,\n",
       "              grow_policy='depthwise', importance_type=None,\n",
       "              interaction_constraints='', learning_rate=0.3, max_bin=256,\n",
       "              max_cat_to_onehot=4, max_delta_step=0, max_depth=12, max_leaves=0,\n",
       "              min_child_weight=1, missing=nan, monotone_constraints='()',\n",
       "              n_estimators=600, n_jobs=0, num_parallel_tree=1, predictor='auto',\n",
       "              random_state=123, reg_alpha=0, reg_lambda=1, ...)"
      ]
     },
     "execution_count": 15,
     "metadata": {},
     "output_type": "execute_result"
    }
   ],
   "source": [
    "best_model = randomized_auc.best_estimator_\n",
    "best_model"
   ]
  },
  {
   "cell_type": "code",
   "execution_count": 16,
   "id": "d01318f4-b952-4568-b7c4-7189ab55c758",
   "metadata": {},
   "outputs": [],
   "source": [
    "y_pred = best_model.predict(X_test)"
   ]
  },
  {
   "cell_type": "code",
   "execution_count": 17,
   "id": "eca589d5-14dc-4298-b5a5-188b05e69224",
   "metadata": {},
   "outputs": [
    {
     "name": "stdout",
     "output_type": "stream",
     "text": [
      "Model Results:\n",
      "-------------------\n",
      "Accuracy Score:  0.976689485694225\n",
      "-------------------\n",
      "ROC-AUC Score:  0.9337615209769278\n",
      "-------------------\n",
      "Confusion Matrix:\n",
      "[[23674    40]\n",
      " [  624  4147]]\n",
      "-------------------\n",
      "Precision:  0.8692098092643051\n",
      "-------------------\n",
      "Recall:  0.990446620491999\n",
      "-------------------\n",
      "F1:  0.9258763116767136\n"
     ]
    }
   ],
   "source": [
    "model_scores(y_test, y_pred)"
   ]
  },
  {
   "cell_type": "code",
   "execution_count": 18,
   "id": "6bab1e85-5f3c-4f88-8e7b-7c39356c4b02",
   "metadata": {},
   "outputs": [
    {
     "data": {
      "image/png": "[encoded data removed]",
      "text/plain": [
       "<Figure size 432x288 with 1 Axes>"
      ]
     },
     "metadata": {
      "needs_background": "light"
     },
     "output_type": "display_data"
    }
   ],
   "source": [
    "feature_importance_df = pd.DataFrame(best_model.feature_importances_, X_train.columns)\n",
    "feature_importance_df.rename(columns={0:'Gain'}, inplace=True)\n",
    "feature_importance_df.sort_values('Gain', ascending=False, inplace=True)\n",
    "feature_importance_df[:10].plot(kind='bar')\n",
    "plt.title('Top 10 Features - By Gains')\n",
    "plt.ylabel('Gain')\n",
    "plt.show()"
   ]
  },
  {
   "cell_type": "markdown",
   "id": "04800256-5591-4929-8809-b3f86b275f45",
   "metadata": {},
   "source": [
    "## Model Evaluation and Next Steps\n",
    "\n",
    "#### Initial Model\n",
    "\n",
    "The initial model resulted in an accuracy score of 0.98, an AUC-ROC score of 0.944, a precision of 0.89, a recall of 0.99, and an f1 score of 0.94. The top features are principal customer payments, loan month since origination, original loan amount, estimated return, and monthly payments when ranked by gains.\n",
    "\n",
    "#### Hyperparameter Tuning\n",
    "\n",
    "I utilized the RandomizedSearchCV function from the sci-kit learn library to tune the various hyperparameter of the model. This method randomly selects hyperparameters from the input grid to test the selected metric through cross-validation. Since this method doesn't try every input from the parameter, it is faster than its counterpart GridSearchCV. I chose this method over the GridSearch method due to hardware and time limitations. However, the trade-off is that it might not find the most optimal set of parameters due to the randomness of the search method; this tuning took ~34 minutes to complete. After the hyperparameter tuning, the model returned an accuracy score of 0.978, an AUC-ROC score of 9.33, a precision of 0.87, a recall of 0.99, and an f1 score of 0.926. The top 5 features with the highest gains are Credit Rating AA, principal customer payments, loan month since origination, borrower state CT, and investment from friends account.\n",
    "\n",
    "There are similarities in the top 5 features when ranked by gains. When comparing the graphs of the initial model and the tuned model, the initial model showed higher gains per feature. The results for the untuned model is better than the one chosen by randomized search. This signifies the best hyperparameter has not been found.\n",
    "\n",
    "#### Model Limitations\n",
    "\n",
    "The limitation of XGBoost models is the interpretability of the features. Unlike a basic decision tree with only one tree, XGBoost utilizes hundreds, if not thousands, of trees to optimize the prediction. So it's much more challenging to quantify the feature's importance. Therefore, I ordered them by how much \"Gain\" resulted from splitting each feature in this analysis. The resulting feature importance is shown in the bar graphs above.\n",
    "\n",
    "\n",
    "#### Next Steps\n",
    "\n",
    "The future plans for this project is to analysis every feature in depth and try different imputing methods and models to compare results. It will also be interesting run this model through GridSearchCV to find the most optimal hyper paramenter."
   ]
  }
 ],
 "metadata": {
  "kernelspec": {
   "display_name": "Python 3",
   "language": "python",
   "name": "python3"
  },
  "language_info": {
   "codemirror_mode": {
    "name": "ipython",
    "version": 3
   },
   "file_extension": ".py",
   "mimetype": "text/x-python",
   "name": "python",
   "nbconvert_exporter": "python",
   "pygments_lexer": "ipython3",
   "version": "3.8.8"
  }
 },
 "nbformat": 4,
 "nbformat_minor": 5
}
